{
 "cells": [
  {
   "cell_type": "code",
   "execution_count": 1,
   "id": "466b5876-2061-41d2-84cc-d6e8957a310f",
   "metadata": {
    "scrolled": true
   },
   "outputs": [],
   "source": [
    "#Connectings to Milvus, BERT and Postgresql\n",
    "from pymilvus import connections, FieldSchema, CollectionSchema, DataType, Collection, utility\n",
    "import pymysql\n",
    "\n",
    "connections.connect(host='localhost', port='19530')\n",
    "conn = pymysql.connect(host='localhost', user='root', port=3306, password='123456', database='mysql',local_infile=True)\n",
    "cursor = conn.cursor()"
   ]
  },
  {
   "cell_type": "code",
   "execution_count": 2,
   "id": "6e5a6144-d1a6-433a-9cf8-01e643e64b8c",
   "metadata": {},
   "outputs": [],
   "source": [
    "TABLE_NAME = 'question_answering'\n",
    "\n",
    "#Deleting previouslny stored table for clean run\n",
    "if utility.has_collection(TABLE_NAME):\n",
    "    collection = Collection(name=TABLE_NAME)\n",
    "    collection.drop()\n",
    "\n",
    "field1 = FieldSchema(name=\"id\", dtype=DataType.INT64, descrition=\"int64\", is_primary=True, auto_id=True)\n",
    "field2 = FieldSchema(name=\"embedding\", dtype=DataType.FLOAT_VECTOR, descrition=\"float vector\",dim=768, is_primary=False)\n",
    "schema = CollectionSchema(fields=[field1, field2], description=\"collection description\")\n",
    "collection = Collection(name=TABLE_NAME, schema=schema)"
   ]
  },
  {
   "cell_type": "code",
   "execution_count": 3,
   "id": "c1c9eee4-9e8d-4dc7-8d63-fa9b2b5d155b",
   "metadata": {},
   "outputs": [
    {
     "data": {
      "text/plain": [
       "Status(code=0, message=)"
      ]
     },
     "execution_count": 3,
     "metadata": {},
     "output_type": "execute_result"
    }
   ],
   "source": [
    "default_index = {\"index_type\": \"IVF_FLAT\", \"metric_type\": 'IP', \"params\": {\"nlist\": 200}}\n",
    "collection.create_index(field_name=\"embedding\", index_params=default_index)"
   ]
  },
  {
   "cell_type": "code",
   "execution_count": 4,
   "id": "0fb060aa-292c-46cf-a325-a40455abd19e",
   "metadata": {},
   "outputs": [
    {
     "name": "stdout",
     "output_type": "stream",
     "text": [
      "create MySQL table successfully!\n"
     ]
    }
   ],
   "source": [
    "#Deleting previouslny stored table for clean run\n",
    "drop_table = \"DROP TABLE IF EXISTS \" + TABLE_NAME + \";\"\n",
    "cursor.execute(drop_table)\n",
    "\n",
    "try:\n",
    "    sql = \"CREATE TABLE if not exists \" + TABLE_NAME + \" (id TEXT, question TEXT, answer TEXT);\"\n",
    "    cursor.execute(sql)\n",
    "    print(\"create MySQL table successfully!\")\n",
    "except Exception as e:\n",
    "    print(\"can't create a MySQL table: \", e)"
   ]
  },
  {
   "cell_type": "code",
   "execution_count": 5,
   "id": "9d83f94d-6a6b-4859-9f93-f510b9bab914",
   "metadata": {
    "scrolled": true
   },
   "outputs": [],
   "source": [
    "from sentence_transformers import SentenceTransformer\n",
    "import pandas as pd\n",
    "from sklearn.preprocessing import normalize\n",
    "\n",
    "model = SentenceTransformer(r'D:\\test\\paraphrase-multilingual-mpnet-base-v2')\n",
    "\n",
    "# Get questions and answers.\n",
    "data = pd.read_csv(r'D:\\test\\test\\test\\question_answer1.csv', encoding='latin1')\n",
    "question_data = data['question'].tolist()\n",
    "answer_data = data['answer'].tolist()\n",
    "\n",
    "sentence_embeddings = model.encode(question_data)\n",
    "sentence_embeddings = normalize(sentence_embeddings).tolist()"
   ]
  },
  {
   "cell_type": "code",
   "execution_count": 6,
   "id": "fdca16ae-723d-4298-89cb-dce3bd9a4c70",
   "metadata": {},
   "outputs": [
    {
     "name": "stdout",
     "output_type": "stream",
     "text": [
      "1000\n"
     ]
    }
   ],
   "source": [
    "mr = collection.insert([sentence_embeddings])\n",
    "ids = mr.primary_keys\n",
    "print(len(ids))\n",
    "\n",
    "# status, ids = milv.insert(collection_name=TABLE_NAME, records=sentence_embeddings)\n",
    "# print(status)"
   ]
  },
  {
   "cell_type": "code",
   "execution_count": 7,
   "id": "7bc5d949-1f06-4152-a403-a54ad26decc6",
   "metadata": {},
   "outputs": [
    {
     "name": "stdout",
     "output_type": "stream",
     "text": [
      "MYSQL loads data to table: question_answering successfully\n"
     ]
    }
   ],
   "source": [
    "import os \n",
    "\n",
    "# Combine the id of the vector and the question data into a list\n",
    "def format_data(ids, question_data, answer_data):\n",
    "    data = []\n",
    "    for i in range(len(ids)):\n",
    "        value = (str(ids[i]), question_data[i], answer_data[i])\n",
    "        data.append(value)\n",
    "    return data\n",
    "\n",
    "def load_data_to_mysql(cursor, conn, table_name, data):\n",
    "    sql = \"insert into \" + table_name + \" (id,question,answer) values (%s,%s,%s);\"\n",
    "    try:\n",
    "        cursor.executemany(sql, data)\n",
    "        conn.commit()\n",
    "        print(\"MYSQL loads data to table: {} successfully\".format(table_name))\n",
    "    except Exception as e:\n",
    "        print(\"MYSQL ERROR: {} with sql: {}\".format(e, sql))\n",
    "        \n",
    "load_data_to_mysql(cursor, conn, TABLE_NAME, format_data(ids, question_data, answer_data))\n"
   ]
  },
  {
   "cell_type": "code",
   "execution_count": 8,
   "id": "af063325-9374-41b1-91b9-af3e8a0df03f",
   "metadata": {},
   "outputs": [],
   "source": [
    "SEARCH_PARAM = {'nprobe': 40}\n",
    "\n",
    "query_vec = []\n",
    "\n",
    "question = \"What is a movie? Where did movies originate from?\"\n",
    "\n",
    "query_embeddings = []\n",
    "embed = model.encode(question)\n",
    "embed = embed.reshape(1,-1)\n",
    "embed = normalize(embed)\n",
    "query_embeddings = embed.tolist()\n",
    "\n",
    "collection.load()\n",
    "\n",
    "search_params = {\"metric_type\": 'IP', \"params\": {\"nprobe\": 16}}\n",
    "\n",
    "results = collection.search(query_embeddings, anns_field=\"embedding\", param=search_params, limit=5)\n",
    "\n",
    "# status, results = milv.search(collection_name=TABLE_NAME, query_records=query_embeddings, top_k=5, params=SEARCH_PARAM)\n"
   ]
  },
  {
   "cell_type": "code",
   "execution_count": 9,
   "id": "fea5852f-9658-4d74-9107-e68e169c57e5",
   "metadata": {},
   "outputs": [
    {
     "name": "stdout",
     "output_type": "stream",
     "text": [
      "There are similar questions in the database, here are the closest matches:\n",
      "{'What is a movie? Where did movies originate from?': 0.9999998807907104, 'What is film art?': 0.6886543035507202, 'What is a movie song?': 0.6777299046516418, 'What is film language?': 0.6602007150650024, 'What is film composition?': 0.6433337330818176}\n"
     ]
    }
   ],
   "source": [
    "ids = [str(x.id) for x in results[0]]\n",
    "\n",
    "def search_by_milvus_ids(cursor, ids, table_name):\n",
    "    str_ids = str(ids).replace('[', '').replace(']', '')\n",
    "    sql = \"select question from \" + table_name + \" where id in (\" + str_ids + \") order by field (id,\" + str_ids + \");\"\n",
    "    try:\n",
    "        cursor.execute(sql)\n",
    "        results = cursor.fetchall()\n",
    "        results = [res[0] for res in results]\n",
    "        return results\n",
    "    except Exception as e:\n",
    "        print(\"MYSQL ERROR: {} with sql: {}\".format(e, sql))\n",
    "\n",
    "similar_questions = search_by_milvus_ids(cursor, ids, TABLE_NAME)\n",
    "\n",
    "distances = [x.distance for x in results[0]]\n",
    "\n",
    "res = dict(zip(similar_questions, distances))\n",
    "\n",
    "print('There are similar questions in the database, here are the closest matches:\\n{}'.format(res))\n"
   ]
  },
  {
   "cell_type": "code",
   "execution_count": 10,
   "id": "19150f37-f2f8-44b5-94ff-e53dd8a002f3",
   "metadata": {},
   "outputs": [
    {
     "name": "stdout",
     "output_type": "stream",
     "text": [
      "Question:\n",
      "What is a movie? Where did movies originate from?\n",
      "Answer:\n",
      "According to the principle of visual persistence, photography is used to capture images of external objects on film, creating a moving image on the screen through the projection process to express certain content. Scientific experiments have shown that after a certain image disappears, the human eye can still retain the object on the film for about 0.1-0.4 seconds. The movies we currently see are based on this \"visual persistence\" theory, rotating at a constant speed of 24 frames per second, causing a series of static images to fill the gaps between the images due to the effect of visual persistence, creating a continuous visual impression and producing a realistic sense of motion. By 1894-1895, the Lumiere brothers in France were able to create a film that can capture images. Like a projector projected on a white screen, real movies were finally born. Early movies were all black and white silent films, but attempts to add color to movie dubbing began almost simultaneously with the birth of movies. The first way to dub movies was through on-site manual operation. In 1928, the world's first audio and visual synchronized movie was released, with dubbing equipment being a \"Vital Wind\" system that uses mechanical connections to drive large recording records to create a synchronized sound and visual effect, This method was quickly replaced by optical recording systems. Color films were also manually operated in their primitive stages, and it was not until 1935, when the tricolor color system was introduced, that the first true color film was produced\n"
     ]
    }
   ],
   "source": [
    "sql = \"select answer from \" + TABLE_NAME + \" where question = '\" + similar_questions[0] + \"';\"\n",
    "\n",
    "cursor.execute(sql)\n",
    "rows=cursor.fetchall()\n",
    "print(\"Question:\")\n",
    "print(question)\n",
    "print(\"Answer:\")\n",
    "print(rows[0][0])"
   ]
  },
  {
   "cell_type": "code",
   "execution_count": 32,
   "id": "534abf5e-4096-4b38-af19-1fe7ea304390",
   "metadata": {},
   "outputs": [],
   "source": [
    "import tkinter as tk\n",
    "\n",
    "def search_and_display():\n",
    "    question = question_text.get(\"1.0\", \"end-1c\")  # 获取文本框中的内容\n",
    "    query_embeddings = model.encode([question])\n",
    "    query_embeddings = normalize(query_embeddings).tolist()\n",
    "    \n",
    "    collection.load()\n",
    "    search_params = {\"metric_type\": 'IP', \"params\": {\"nprobe\": 16}}\n",
    "    results = collection.search(query_embeddings, anns_field=\"embedding\", param=search_params, limit=5)\n",
    "    \n",
    "    ids = [str(x.id) for x in results[0]]\n",
    "    similar_questions = search_by_milvus_ids(cursor, ids, TABLE_NAME)\n",
    "    distances = [x.distance for x in results[0]]\n",
    "    res = dict(zip(similar_questions, distances))\n",
    "    text.insert(tk.END, '\\n------------------------------------------------------------------------------------------------------------------------\\n')\n",
    "    text.insert(tk.END, 'There are similar questions in the database, here are the closest matches:\\n{}'.format(res))\n",
    "\n",
    "    sql = \"select answer from \" + TABLE_NAME + \" where question = '\" + similar_questions[0] + \"';\"\n",
    "    cursor.execute(sql)\n",
    "    rows = cursor.fetchall()\n",
    "    \n",
    "    text.insert(tk.END, \"\\n\\nQuestion:\\n{}\\n\\n\".format(question))\n",
    "    text.insert(tk.END, \"Answer:\\n{}\".format(rows[0][0]))\n",
    "    text.insert(tk.END, '\\n------------------------------------------------------------------------------------------------------------------------\\n')\n",
    "\n",
    "def clear_text():\n",
    "    text.delete(\"1.0\", tk.END)  # 清空文本框内容\n",
    "\n",
    "root = tk.Tk()\n",
    "root.title(\"Question Answering System\")\n",
    "\n",
    "# 创建标签和文本框用于输入问题\n",
    "question_label = tk.Label(root, text=\"Enter your question:\")\n",
    "question_label.pack()\n",
    "question_text = tk.Text(root, width=100, height=5)  # 设置文本框的宽度和高度\n",
    "question_text.pack()\n",
    "\n",
    "# 创建按钮容器\n",
    "button_frame = tk.Frame(root)\n",
    "button_frame.pack(pady=5)  # 添加垂直填充\n",
    "\n",
    "# 创建按钮用于触发搜索\n",
    "search_button = tk.Button(button_frame, text=\"Search\", command=search_and_display)\n",
    "search_button.pack(side=tk.LEFT, padx=60)  # 添加水平填充\n",
    "\n",
    "# 创建清空按钮\n",
    "clear_button = tk.Button(button_frame, text=\"Clear\", command=clear_text)\n",
    "clear_button.pack(side=tk.LEFT, padx=60)  # 添加水平填充\n",
    "\n",
    "# 创建文本框用于显示问题和答案\n",
    "text = tk.Text(root, width=120, height=50) \n",
    "text.pack()\n",
    "\n",
    "root.mainloop()\n"
   ]
  },
  {
   "cell_type": "code",
   "execution_count": null,
   "id": "0dd5ab55-3c75-4475-915d-25d84ba52e3c",
   "metadata": {},
   "outputs": [],
   "source": []
  }
 ],
 "metadata": {
  "kernelspec": {
   "display_name": "Python 3 (ipykernel)",
   "language": "python",
   "name": "python3"
  },
  "language_info": {
   "codemirror_mode": {
    "name": "ipython",
    "version": 3
   },
   "file_extension": ".py",
   "mimetype": "text/x-python",
   "name": "python",
   "nbconvert_exporter": "python",
   "pygments_lexer": "ipython3",
   "version": "3.12.2"
  }
 },
 "nbformat": 4,
 "nbformat_minor": 5
}
